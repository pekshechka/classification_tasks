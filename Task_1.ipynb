{
 "cells": [
  {
   "cell_type": "markdown",
   "metadata": {},
   "source": [
    "# Задание 1\n",
    "\n",
    "[Свертка списка](https://ru.wikipedia.org/wiki/%D0%A1%D0%B2%D1%91%D1%80%D1%82%D0%BA%D0%B0_%D1%81%D0%BF%D0%B8%D1%81%D0%BA%D0%B0) -  это обобщенная операция над списком, c помощью которой можно преобразовать список в единое значение. Например, рассмотрим реализации свертки слева и свертки справа (левоассоциативную свертку и правоассоциативную свертку):"
   ]
  },
  {
   "cell_type": "code",
   "execution_count": 1,
   "metadata": {},
   "outputs": [],
   "source": [
    "def foldl(f, x0, lst):\n",
    "    if not lst:\n",
    "        return x0\n",
    "    return foldl(f, f(x0, lst[0]), lst[1:])\n",
    "\n",
    "def foldr(f, x0, lst):\n",
    "    if not lst:\n",
    "        return x0\n",
    "    return f(lst[0], foldr(f, x0, lst[1:]))"
   ]
  },
  {
   "cell_type": "code",
   "execution_count": 2,
   "metadata": {},
   "outputs": [
    {
     "data": {
      "text/plain": [
       "6"
      ]
     },
     "execution_count": 2,
     "metadata": {},
     "output_type": "execute_result"
    }
   ],
   "source": [
    "#сумма\n",
    "foldl(lambda x, y: x + y, 0, [1, 2, 3])"
   ]
  },
  {
   "cell_type": "code",
   "execution_count": 3,
   "metadata": {},
   "outputs": [
    {
     "data": {
      "text/plain": [
       "'0123'"
      ]
     },
     "execution_count": 3,
     "metadata": {},
     "output_type": "execute_result"
    }
   ],
   "source": [
    "#конкатенация\n",
    "foldl(lambda x, y: '{}{}'.format(x, y), '0', [1, 2, 3])"
   ]
  },
  {
   "cell_type": "code",
   "execution_count": 4,
   "metadata": {},
   "outputs": [
    {
     "data": {
      "text/plain": [
       "'123450'"
      ]
     },
     "execution_count": 4,
     "metadata": {},
     "output_type": "execute_result"
    }
   ],
   "source": [
    "foldr(lambda x, y: '{}{}'.format(x, y), '0', [1, 2, 3, 4, 5])"
   ]
  },
  {
   "cell_type": "code",
   "execution_count": 5,
   "metadata": {},
   "outputs": [
    {
     "data": {
      "text/plain": [
       "(0.16666666666666666, 1.5)"
      ]
     },
     "execution_count": 5,
     "metadata": {},
     "output_type": "execute_result"
    }
   ],
   "source": [
    "f = lambda x, y: x / y\n",
    "foldl(f, 1, [1, 2, 3]), \\\n",
    "foldr(f, 1, [1, 2, 3])"
   ]
  },
  {
   "cell_type": "markdown",
   "metadata": {},
   "source": [
    "Задача: реализовать foldl через foldr и наоборот. Вместо многоточий нужно вставить выражения, которые бы привели к нужному результату."
   ]
  },
  {
   "cell_type": "code",
   "execution_count": 6,
   "metadata": {},
   "outputs": [],
   "source": [
    "def foldl2(f, x0, lst):\n",
    "    return foldr(lambda a, func: lambda x: func(f(x, a)), lambda z: z, lst)(x0)"
   ]
  },
  {
   "cell_type": "code",
   "execution_count": 7,
   "metadata": {},
   "outputs": [],
   "source": [
    "def foldr2(f, x0, lst):\n",
    "    return foldl(lambda func, a: lambda x: func(f(a, x)), lambda z: z, lst)(x0)"
   ]
  },
  {
   "cell_type": "code",
   "execution_count": 8,
   "metadata": {},
   "outputs": [
    {
     "data": {
      "text/plain": [
       "(0.16666666666666666, 1.5)"
      ]
     },
     "execution_count": 8,
     "metadata": {},
     "output_type": "execute_result"
    }
   ],
   "source": [
    "f = lambda x, y: x / y\n",
    "foldl2(f, 1, [1, 2, 3]), \\\n",
    "foldr2(f, 1, [1, 2, 3])"
   ]
  },
  {
   "cell_type": "markdown",
   "metadata": {},
   "source": [
    "# Задание 2\n",
    "\n",
    "нужно написать функцию, которая принимает две строки и проверяет, входит ли хотя бы одна перестановка второй строки в первую. Например:\n",
    "\n",
    "> a = 'abcrotm'\n",
    "> \n",
    "> b = 'tro'\n",
    "\n",
    "функция def check_inv(a, b) вернет True, так как 'rot' содержится в 'abcrotm'. Нужно подумать как можно более оптимальный алгоритм и оценить его сложность. "
   ]
  },
  {
   "cell_type": "code",
   "execution_count": 38,
   "metadata": {},
   "outputs": [],
   "source": [
    "from collections import Counter\n",
    "\n",
    "def check_inv(a, b):\n",
    "    count = Counter(b)\n",
    "    difference= len(count)\n",
    "    len_b = len(b)\n",
    "    \n",
    "    for i in range(len(a)):\n",
    "        ch = a[i]\n",
    "        \n",
    "        if count[ch] == 0:\n",
    "            difference += 1\n",
    "        elif count[ch] == 1:\n",
    "            difference -= 1\n",
    "        \n",
    "        count[ch] -= 1\n",
    "        \n",
    "        if i >= len_b:\n",
    "            ch = a[i-len_b]\n",
    "            \n",
    "            if count[ch] == 0:\n",
    "                difference += 1\n",
    "            elif count[ch] == -1:\n",
    "                difference -= 1\n",
    "                \n",
    "            count[ch] += 1\n",
    "        \n",
    "        if difference == 0:\n",
    "            return True\n",
    "    \n",
    "    return False"
   ]
  },
  {
   "cell_type": "code",
   "execution_count": 43,
   "metadata": {},
   "outputs": [
    {
     "data": {
      "text/plain": [
       "True"
      ]
     },
     "execution_count": 43,
     "metadata": {},
     "output_type": "execute_result"
    }
   ],
   "source": [
    "a = 'abcrmmottm'\n",
    "\n",
    "b = 'trmmotm'\n",
    "\n",
    "check_inv(a, b)"
   ]
  },
  {
   "cell_type": "markdown",
   "metadata": {},
   "source": [
    "# Задание 3\n",
    "\n",
    "Реализовать бинарное дерево (класс Tree), в нём методы __repr__, __str__, __iter__ (итерация только по листьям)."
   ]
  },
  {
   "cell_type": "code",
   "execution_count": 11,
   "metadata": {},
   "outputs": [
    {
     "name": "stdout",
     "output_type": "stream",
     "text": [
      "True\n",
      "Tree(0, Tree(1, Tree(3, None, None), Tree(4, None, None)), Tree(2, None, None))\n",
      "<<<None> 3 <None>> 1 <<None> 4 <None>>> 0 <<None> 2 <None>>\n"
     ]
    }
   ],
   "source": [
    "class Tree:\n",
    "    def __init__(self, value=None, left=None, right=None):\n",
    "        self.left = left\n",
    "        self.right = right\n",
    "        self.value = value\n",
    "        \n",
    "    def __iter__(self):\n",
    "        if self.left != None:\n",
    "            yield from self.left\n",
    "            \n",
    "        if self.right != None:\n",
    "            yield from self.right\n",
    "            \n",
    "        elif self.left == None:\n",
    "            yield self.value\n",
    "        \n",
    "            \n",
    "        \n",
    "    \n",
    "    def __str__(self):\n",
    "        return '<{}> {} <{}>'.format(str(self.left), self.value, str(self.right))\n",
    "    \n",
    "    def __repr__(self):\n",
    "        return 'Tree({}, {}, {})'.format(self.value, repr(self.left), repr(self.right))\n",
    "    \n",
    "tree = Tree(0, Tree(1, Tree(3), Tree(4)),                             \n",
    "               Tree(2))\n",
    "\n",
    "print(list(tree) == [3, 4, 2])\n",
    "print(repr(tree))\n",
    "print(tree)\n"
   ]
  },
  {
   "cell_type": "markdown",
   "metadata": {},
   "source": [
    "# Задание 4\n",
    "\n",
    "Реализовать простейший калькулятор математических выражений:\n",
    "- только целые числа\n",
    "- **+**, **\\-**, **\\***, **\\**\n",
    "- скобки\n",
    "\n",
    "**Можно использовать регулярные выражения**"
   ]
  },
  {
   "cell_type": "code",
   "execution_count": 19,
   "metadata": {},
   "outputs": [],
   "source": [
    "def myeval(expr):\n",
    "    first = ['*', '/']\n",
    "    second = ['-', '+']\n",
    "    stack = []\n",
    "    exstr = ''\n",
    "    for token in expr.split(\" \"):\n",
    "        if token in second:\n",
    "            if len(stack):\n",
    "                exstr += stack.pop() + ' '\n",
    "                stack.append(token)\n",
    "            else:\n",
    "                stack.append(token)\n",
    "                \n",
    "        elif token in first:\n",
    "            if len(stack) and stack[-1] in first:\n",
    "                exstr += stack.pop() + ' '\n",
    "                stack.append(token)\n",
    "            else:\n",
    "                stack.append(token)\n",
    "            \n",
    "        elif token:\n",
    "            exstr += token + ' '\n",
    "            \n",
    "            \n",
    "    for token in reversed(stack):\n",
    "        exstr += token + ' '\n",
    "    \n",
    "    operands = {'+': lambda x, y: x+y, '-': lambda x, y: x-y, '*': lambda x, y: x*y, '/': lambda x, y: x/y}\n",
    "    keys = operands.keys()\n",
    "    stack = []\n",
    "    for token in exstr.split(\" \"):\n",
    "        if token in keys:\n",
    "            op2, op1 = stack.pop(), stack.pop()\n",
    "            stack.append(operands[token](op1,op2))\n",
    "        elif token:\n",
    "            try:\n",
    "                stack.append(int(token))\n",
    "            except:\n",
    "                raise NameError('Incorrect expression')\n",
    "    return stack.pop()"
   ]
  },
  {
   "cell_type": "code",
   "execution_count": 17,
   "metadata": {},
   "outputs": [
    {
     "data": {
      "text/plain": [
       "True"
      ]
     },
     "execution_count": 17,
     "metadata": {},
     "output_type": "execute_result"
    }
   ],
   "source": [
    "import re\n",
    "\n",
    "def calc(expr):\n",
    "    \n",
    "    def myeval(expr): #~eval\n",
    "        first = ['*', '/']\n",
    "        second = ['-', '+']\n",
    "        stack = []\n",
    "        exstr = ''\n",
    "        for token in expr.split(\" \"):\n",
    "            if token in second:\n",
    "                if len(stack):\n",
    "                    exstr += stack.pop() + ' '\n",
    "                    stack.append(token)\n",
    "                else:\n",
    "                    stack.append(token)\n",
    "\n",
    "            elif token in first:\n",
    "                if len(stack) and stack[-1] in first:\n",
    "                    exstr += stack.pop() + ' '\n",
    "                    stack.append(token)\n",
    "                else:\n",
    "                    stack.append(token)\n",
    "\n",
    "            elif token:\n",
    "                exstr += token + ' '\n",
    "\n",
    "\n",
    "        for token in reversed(stack):\n",
    "            exstr += token + ' '\n",
    "\n",
    "        operands = {'+': lambda x, y: x+y, '-': lambda x, y: x-y, '*': lambda x, y: x*y, '/': lambda x, y: x/y}\n",
    "        keys = operands.keys()\n",
    "        stack = []\n",
    "        for token in exstr.split(\" \"):\n",
    "            if token in keys:\n",
    "                op2, op1 = stack.pop(), stack.pop()\n",
    "                stack.append(operands[token](op1,op2))\n",
    "            elif token:\n",
    "                try:\n",
    "                    stack.append(int(token))\n",
    "                except ValueError:\n",
    "                    raise ValueError('Incorrect expression')\n",
    "        return stack.pop()\n",
    "    \n",
    "    tempstr = expr\n",
    "    while True:\n",
    "        fin = [m.start() for m in re.finditer(r'\\)', tempstr)]\n",
    "        if not fin:\n",
    "            return myeval(tempstr)\n",
    "        \n",
    "        fin = fin[0]\n",
    "        \n",
    "        st = [m.start() for m in re.finditer(r'\\(', tempstr[:fin])]\n",
    "        if not st:\n",
    "            raise ValueError('Incorrect expression')\n",
    "            \n",
    "        st = st[-1]\n",
    "            \n",
    "        res = myeval(tempstr[st+1:fin])\n",
    "        tempstr = tempstr[:st] + str(res) + tempstr[fin+1:]\n",
    "        \n",
    "calc('2 * (15 - 3 * 4) - 2') == 4"
   ]
  },
  {
   "cell_type": "code",
   "execution_count": null,
   "metadata": {},
   "outputs": [],
   "source": []
  }
 ],
 "metadata": {
  "kernelspec": {
   "display_name": "Python 3",
   "language": "python",
   "name": "python3"
  },
  "language_info": {
   "codemirror_mode": {
    "name": "ipython",
    "version": 3
   },
   "file_extension": ".py",
   "mimetype": "text/x-python",
   "name": "python",
   "nbconvert_exporter": "python",
   "pygments_lexer": "ipython3",
   "version": "3.6.6"
  }
 },
 "nbformat": 4,
 "nbformat_minor": 2
}
